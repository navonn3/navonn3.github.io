{
 "cells": [
  {
   "cell_type": "markdown",
   "id": "8c8a849f-dd29-4b6a-a3a7-4345d990b81f",
   "metadata": {},
   "source": [
    "## Matan Navon - Python Project"
   ]
  },
  {
   "cell_type": "code",
   "execution_count": null,
   "id": "3be7ea36-7e0a-4489-ae69-338cdb6f5abc",
   "metadata": {},
   "outputs": [],
   "source": [
    "import pandas as pd\n",
    "import seaborn as sb\n",
    "import os\n",
    "import matplotlib.pyplot as plt\n",
    "import matplotlib.patches as mp"
   ]
  },
  {
   "cell_type": "code",
   "execution_count": null,
   "id": "b44ff7ad-3d5c-4d30-8a4e-e111a7e8e77e",
   "metadata": {},
   "outputs": [],
   "source": [
    "diamonds = pd.read_csv('diamonds.csv')"
   ]
  },
  {
   "cell_type": "markdown",
   "id": "9a331e14-4aff-4d7f-b8ed-928205d42f66",
   "metadata": {},
   "source": [
    "Q1 - What is the highest diamond price?"
   ]
  },
  {
   "cell_type": "code",
   "execution_count": null,
   "id": "d91b4b22-35fe-4a26-b59d-63cc6d7f7697",
   "metadata": {},
   "outputs": [],
   "source": [
    "diamonds['price'].max()"
   ]
  },
  {
   "cell_type": "markdown",
   "id": "4116b621-5c7b-48bf-9bec-16c77369db95",
   "metadata": {},
   "source": [
    "Q2 - What is the average diamond price?"
   ]
  },
  {
   "cell_type": "code",
   "execution_count": null,
   "id": "5d5d54b5-661f-4a17-816f-fbd911753bf4",
   "metadata": {},
   "outputs": [],
   "source": [
    "diamonds['price'].mean()"
   ]
  },
  {
   "cell_type": "markdown",
   "id": "32ed1d11-d608-40f0-a55f-c6e633d34faa",
   "metadata": {},
   "source": [
    "Q3 - How many diamonds with \"Ideal\" cut are there?"
   ]
  },
  {
   "cell_type": "code",
   "execution_count": null,
   "id": "01115e21-aed8-4faa-8a34-31e42cb3effd",
   "metadata": {},
   "outputs": [],
   "source": [
    "diamonds['cut'].value_counts()['Ideal']"
   ]
  },
  {
   "cell_type": "markdown",
   "id": "49dc8e7f-869e-4b5b-b80b-dbd7476015a3",
   "metadata": {},
   "source": [
    "Q4 - How many different colors do diamonds have and what are they?"
   ]
  },
  {
   "cell_type": "code",
   "execution_count": null,
   "id": "54d3eb86-c651-414b-88ba-87209c811cc2",
   "metadata": {},
   "outputs": [],
   "source": [
    "color_count = diamonds['color'].nunique()\n",
    "color_values = diamonds['color'].unique()\n",
    "print(\"There are\",color_count,\"different diamond colors which are:\",color_values )"
   ]
  },
  {
   "cell_type": "markdown",
   "id": "7bc638fc-a030-4f83-b4de-68f57e32a85c",
   "metadata": {},
   "source": [
    "Q5 - What is the median carat of premium type diamonds?"
   ]
  },
  {
   "cell_type": "code",
   "execution_count": null,
   "id": "cab332bd-db52-4796-8bad-cc9be270767a",
   "metadata": {},
   "outputs": [],
   "source": [
    "premium = diamonds.loc[diamonds[\"cut\"] == \"Premium\"]\n",
    "premium['carat'].median()"
   ]
  },
  {
   "cell_type": "markdown",
   "id": "8d2886dc-f941-4868-b2c5-b0cb74973a99",
   "metadata": {},
   "source": [
    "Q6 - Create an average carat for each type of cut"
   ]
  },
  {
   "cell_type": "code",
   "execution_count": null,
   "id": "02afad94-3bbe-445c-a217-ca8a1781fb84",
   "metadata": {},
   "outputs": [],
   "source": [
    "diamonds.groupby('cut').mean('carat')['carat']"
   ]
  },
  {
   "cell_type": "markdown",
   "id": "a2eb5122-4faf-4f33-81b0-f8c266f30227",
   "metadata": {},
   "source": [
    "Q7 - Create a price average for each color type."
   ]
  },
  {
   "cell_type": "code",
   "execution_count": null,
   "id": "03962f8d-49f6-4ed8-bd41-92e3d58d4236",
   "metadata": {},
   "outputs": [],
   "source": [
    "diamonds.groupby('color').mean('price')['price']"
   ]
  },
  {
   "cell_type": "markdown",
   "id": "510a07b5-0636-4c5d-a9b2-cc0b3626c26d",
   "metadata": {},
   "source": [
    "Extra - add 3 visualizations"
   ]
  },
  {
   "cell_type": "code",
   "execution_count": null,
   "id": "c178ef97-4405-4782-abb1-efac7b794401",
   "metadata": {},
   "outputs": [],
   "source": [
    "df = diamonds.groupby('cut')['price'].mean('price').reset_index().round(2)\n",
    "plt.figure(figsize=(11,6))\n",
    "ax = sb.barplot(data=df, x='cut', y='price')\n",
    "ax.bar_label(ax.containers[0])\n",
    "plt.title('Average price per cut', fontdict={'fontsize':14})\n",
    "plt.xlabel('Price', fontdict={'fontsize':12})\n",
    "plt.ylabel('Cut', fontdict={'fontsize':12})\n",
    "plt.yticks(rotation=90)\n",
    "plt.show()"
   ]
  },
  {
   "cell_type": "code",
   "execution_count": null,
   "id": "d0fd25e8-5e3f-4d34-825d-cc3e9a38b6e4",
   "metadata": {},
   "outputs": [],
   "source": [
    "df2 = diamonds.groupby('cut')['price'].count().reset_index()\n",
    "df2 = df2.set_index('cut')\n",
    "pcolor = sb.color_palette(\"pastel\", 10)\n",
    "df2.plot.pie(y='price', autopct='%1.1f%%', colors=pcolor)\n",
    "plt.title('Total diamonds Cut distribution')\n",
    "plt.legend(title='Cut', loc='center left', bbox_to_anchor=(1, 0.5))\n",
    "plt.ylabel('')\n",
    "plt.show()"
   ]
  },
  {
   "cell_type": "code",
   "execution_count": null,
   "id": "2b66ab88-41ad-44e0-851b-b0516d0bf1fd",
   "metadata": {},
   "outputs": [],
   "source": [
    "df3 = diamonds.groupby('carat')['price'].mean('price').reset_index().round(2)\n",
    "sb.relplot(data=df3, kind=\"line\", x=\"carat\", y=\"price\", color='Red')\n",
    "plt.title('Average price per carat', fontdict={'fontsize':14})\n",
    "plt.xlabel('Carat', fontdict={'fontsize':12})\n",
    "plt.ylabel('Price', fontdict={'fontsize':12})\n",
    "plt.yticks(rotation=45)\n",
    "plt.show()"
   ]
  }
 ],
 "metadata": {
  "kernelspec": {
   "display_name": "Python 3 (ipykernel)",
   "language": "python",
   "name": "python3"
  },
  "language_info": {
   "codemirror_mode": {
    "name": "ipython",
    "version": 3
   },
   "file_extension": ".py",
   "mimetype": "text/x-python",
   "name": "python",
   "nbconvert_exporter": "python",
   "pygments_lexer": "ipython3",
   "version": "3.10.7"
  }
 },
 "nbformat": 4,
 "nbformat_minor": 5
}
